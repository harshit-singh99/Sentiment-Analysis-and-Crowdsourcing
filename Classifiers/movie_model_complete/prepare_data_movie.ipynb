{
 "cells": [
  {
   "cell_type": "code",
   "execution_count": 1,
   "metadata": {},
   "outputs": [
    {
     "name": "stderr",
     "output_type": "stream",
     "text": [
      "/usr/lib/python3.6/importlib/_bootstrap.py:219: RuntimeWarning: numpy.dtype size changed, may indicate binary incompatibility. Expected 96, got 88\n",
      "  return f(*args, **kwds)\n",
      "/usr/lib/python3.6/importlib/_bootstrap.py:219: RuntimeWarning: numpy.dtype size changed, may indicate binary incompatibility. Expected 96, got 88\n",
      "  return f(*args, **kwds)\n"
     ]
    }
   ],
   "source": [
    "import pandas as pd \n",
    "import os\n",
    "import numpy as np \n",
    "import re\n"
   ]
  },
  {
   "cell_type": "code",
   "execution_count": 2,
   "metadata": {},
   "outputs": [],
   "source": [
    "def create_db_labeled(input_path, fname):    \n",
    "    text = []\n",
    "    polarity = []\n",
    "    for filename in os.listdir(input_path+\"pos\"):\n",
    "        data = open(input_path+\"pos/\"+filename, 'r' , encoding=\"UTF8\").read()\n",
    "        data = data.replace(\"\\'\",'')\n",
    "        data = data.replace('\"',' ')\n",
    "        data = data.replace(',',' ')\n",
    "        data = data.replace(\"<br />\",' ')\n",
    "        text.append(data)\n",
    "        polarity.append(\"p\")\n",
    "\n",
    "    for filename in os.listdir(input_path+\"neg\"):\n",
    "        data = open(input_path+\"neg/\"+filename, 'r' , encoding=\"UTF8\").read()\n",
    "        data = data.replace(\"\\'\",'')\n",
    "        data = data.replace('\"',' ')\n",
    "        data = data.replace(\"<br />\",' ')\n",
    "        data = data.replace(',', ' ')\n",
    "        text.append(data)\n",
    "        polarity.append(\"n\")\n",
    "    Dataset = list(zip(text,polarity))\n",
    "    df = pd.DataFrame(data = Dataset, columns=['text', 'polarity'])\n",
    "    df.to_csv(fname, index=False, header=True)"
   ]
  },
  {
   "cell_type": "code",
   "execution_count": 3,
   "metadata": {},
   "outputs": [],
   "source": [
    "train_path = \"aclImdb/train/\" \n",
    "test_path = \"aclImdb/test/\""
   ]
  },
  {
   "cell_type": "code",
   "execution_count": 4,
   "metadata": {},
   "outputs": [],
   "source": [
    "create_db_labeled(train_path, 'imdb_train.csv')"
   ]
  },
  {
   "cell_type": "code",
   "execution_count": 5,
   "metadata": {},
   "outputs": [],
   "source": [
    "create_db_labeled(test_path, 'imdb_test.csv')"
   ]
  },
  {
   "cell_type": "code",
   "execution_count": null,
   "metadata": {},
   "outputs": [],
   "source": []
  }
 ],
 "metadata": {
  "kernelspec": {
   "display_name": "Python 3",
   "language": "python",
   "name": "python3"
  },
  "language_info": {
   "codemirror_mode": {
    "name": "ipython",
    "version": 3
   },
   "file_extension": ".py",
   "mimetype": "text/x-python",
   "name": "python",
   "nbconvert_exporter": "python",
   "pygments_lexer": "ipython3",
   "version": "3.6.5"
  }
 },
 "nbformat": 4,
 "nbformat_minor": 2
}
