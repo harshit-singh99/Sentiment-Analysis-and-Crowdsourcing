{
 "cells": [
  {
   "cell_type": "code",
   "execution_count": 1,
   "metadata": {},
   "outputs": [],
   "source": [
    "import re\n",
    "from nltk.stem.snowball import SnowballStemmer\n",
    "from sklearn.externals import joblib\n",
    "from nltk.corpus import stopwords\n",
    "import pickle"
   ]
  },
  {
   "cell_type": "code",
   "execution_count": 2,
   "metadata": {},
   "outputs": [],
   "source": [
    "from autocorrect import spell"
   ]
  },
  {
   "cell_type": "code",
   "execution_count": 3,
   "metadata": {},
   "outputs": [],
   "source": [
    "stemmer = SnowballStemmer(\"english\")\n",
    "def truncate_multiples(word):\n",
    "    l = list(word)  #convert to list\n",
    "    prev = ''\n",
    "    count = 0\n",
    "    out = ''\n",
    "    for i in range(len(l)):\n",
    "        if l[i] is prev:\n",
    "            count += 1\n",
    "            if count > 2 :\n",
    "                count -= 1\n",
    "            else:\n",
    "                out = out+l[i]\n",
    "        else:\n",
    "            out = out +l[i]\n",
    "            prev = l[i]\n",
    "            count = 1\n",
    "    return out\n",
    "def cleantext(string):\n",
    "    text = string.lower()\n",
    "    stops = set(stopwords.words(\"english\"))\n",
    "    text = text.replace(\"e-mail\", \"email\")\n",
    "    text = text.replace(\" v \", \" very \")\n",
    "    text = text.replace(\" r \",' are ')\n",
    "    text = re.sub(r\"&\",' and ',text)    \n",
    "    text = re.sub(r\"[^a-z0-9]+\",' ',text)\n",
    "    text = re.sub(r\"\\s+\",' ',text)\n",
    "    text = text.split()\n",
    "    text = [truncate_multiples(w) for w in text]\n",
    "    text = [spell(w) for w in text]\n",
    "    text = [w for w in text if not w in stops and len(w)>=2]\n",
    "    stems = []\n",
    "    for word in text:\n",
    "        word = stemmer.stem(word)\n",
    "        if word != \"\":\n",
    "            stems.append(word)\n",
    "    stemmed = \" \".join(stems)\n",
    "    return stemmed"
   ]
  },
  {
   "cell_type": "code",
   "execution_count": 4,
   "metadata": {},
   "outputs": [
    {
     "data": {
      "text/plain": [
       "['great food']"
      ]
     },
     "execution_count": 4,
     "metadata": {},
     "output_type": "execute_result"
    }
   ],
   "source": [
    "reviews = ['great food']#get from django\n",
    "clean = list(map(cleantext, reviews))\n",
    "clean"
   ]
  },
  {
   "cell_type": "code",
   "execution_count": 5,
   "metadata": {},
   "outputs": [],
   "source": [
    "mov = pickle.load(open('./movie_model_complete/movie.pickle','rb'))\n",
    "restr = pickle.load(open('./restaurant_model_complete/restaurant.pickle','rb'))"
   ]
  },
  {
   "cell_type": "code",
   "execution_count": 6,
   "metadata": {},
   "outputs": [],
   "source": [
    "review_type = 'restaurant' #get from django"
   ]
  },
  {
   "cell_type": "code",
   "execution_count": 7,
   "metadata": {},
   "outputs": [],
   "source": [
    "if review_type == 'movie':\n",
    "    pred = mov.predict(clean)\n",
    "elif review_type == 'restaurant':\n",
    "    pred = restr.predict(clean)"
   ]
  },
  {
   "cell_type": "code",
   "execution_count": 8,
   "metadata": {},
   "outputs": [
    {
     "name": "stdout",
     "output_type": "stream",
     "text": [
      "positive\n"
     ]
    }
   ],
   "source": [
    "for i in pred:\n",
    "    if i == 'p':\n",
    "        print('positive')#send to django\n",
    "    elif i == 'n':\n",
    "        print('negative')#send to django"
   ]
  },
  {
   "cell_type": "code",
   "execution_count": null,
   "metadata": {},
   "outputs": [],
   "source": []
  }
 ],
 "metadata": {
  "kernelspec": {
   "display_name": "Python 3",
   "language": "python",
   "name": "python3"
  },
  "language_info": {
   "codemirror_mode": {
    "name": "ipython",
    "version": 3
   },
   "file_extension": ".py",
   "mimetype": "text/x-python",
   "name": "python",
   "nbconvert_exporter": "python",
   "pygments_lexer": "ipython3",
   "version": "3.6.5"
  }
 },
 "nbformat": 4,
 "nbformat_minor": 2
}
