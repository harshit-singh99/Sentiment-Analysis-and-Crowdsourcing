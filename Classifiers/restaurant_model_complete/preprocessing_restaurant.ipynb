{
 "cells": [
  {
   "cell_type": "code",
   "execution_count": 1,
   "metadata": {},
   "outputs": [
    {
     "name": "stderr",
     "output_type": "stream",
     "text": [
      "/usr/lib/python3.6/importlib/_bootstrap.py:219: RuntimeWarning: numpy.dtype size changed, may indicate binary incompatibility. Expected 96, got 88\n",
      "  return f(*args, **kwds)\n",
      "/usr/lib/python3.6/importlib/_bootstrap.py:219: RuntimeWarning: numpy.dtype size changed, may indicate binary incompatibility. Expected 96, got 88\n",
      "  return f(*args, **kwds)\n"
     ]
    }
   ],
   "source": [
    "import pandas as pd\n",
    "import nltk\n",
    "import re\n",
    "from nltk.corpus import stopwords\n",
    "import string\n",
    "from nltk.stem.snowball import SnowballStemmer\n",
    "from autocorrect import spell"
   ]
  },
  {
   "cell_type": "code",
   "execution_count": 2,
   "metadata": {},
   "outputs": [
    {
     "name": "stdout",
     "output_type": "stream",
     "text": [
      "<class 'pandas.core.frame.DataFrame'>\n",
      "RangeIndex: 8539 entries, 0 to 8538\n",
      "Data columns (total 2 columns):\n",
      "polarity    8539 non-null object\n",
      "text        8539 non-null object\n",
      "dtypes: object(2)\n",
      "memory usage: 133.5+ KB\n"
     ]
    }
   ],
   "source": [
    "df = pd.read_csv('restaurant_reviews.csv')\n",
    "df.info()"
   ]
  },
  {
   "cell_type": "code",
   "execution_count": 3,
   "metadata": {},
   "outputs": [],
   "source": [
    "stemmer = SnowballStemmer(\"english\")\n",
    "def truncate_multiples(word):\n",
    "    l = list(word)  #convert to list\n",
    "    prev = ''\n",
    "    count = 0\n",
    "    out = ''\n",
    "    for i in range(len(l)):\n",
    "        if l[i] is prev:\n",
    "            count += 1\n",
    "            if count > 2 :\n",
    "                count -= 1\n",
    "            else:\n",
    "                out = out+l[i]\n",
    "        else:\n",
    "            out = out +l[i]\n",
    "            prev = l[i]\n",
    "            count = 1\n",
    "    return out\n",
    "def cleantext(string):\n",
    "    text = string.lower()\n",
    "    stops = set(stopwords.words(\"english\"))\n",
    "    text = text.replace(\"e-mail\", \"email\")\n",
    "    text = text.replace(\" v \", \" very \")\n",
    "    text = text.replace(\" r \",' are ')\n",
    "    text = re.sub(r\"&\",' and ',text)    \n",
    "    text = re.sub(r\"[^a-z0-9]+\",' ',text)\n",
    "    text = re.sub(r\"\\s+\",' ',text)\n",
    "    text = text.split()\n",
    "    text = [truncate_multiples(w) for w in text]\n",
    "    text = [w for w in text if not w in stops and len(w)>=2]\n",
    "    stems = []\n",
    "    for word in text:\n",
    "        word = stemmer.stem(word)\n",
    "        if word != \"\":\n",
    "            stems.append(word)\n",
    "    stemmed = \" \".join(stems)\n",
    "    return stemmed"
   ]
  },
  {
   "cell_type": "code",
   "execution_count": 4,
   "metadata": {},
   "outputs": [],
   "source": [
    "df['text'] = df['text'].map(lambda x: cleantext(x))"
   ]
  },
  {
   "cell_type": "code",
   "execution_count": 5,
   "metadata": {},
   "outputs": [],
   "source": [
    "df.to_csv('preprocessed_rest.csv', index=False)"
   ]
  },
  {
   "cell_type": "code",
   "execution_count": null,
   "metadata": {},
   "outputs": [],
   "source": []
  }
 ],
 "metadata": {
  "kernelspec": {
   "display_name": "Python 3",
   "language": "python",
   "name": "python3"
  },
  "language_info": {
   "codemirror_mode": {
    "name": "ipython",
    "version": 3
   },
   "file_extension": ".py",
   "mimetype": "text/x-python",
   "name": "python",
   "nbconvert_exporter": "python",
   "pygments_lexer": "ipython3",
   "version": "3.6.5"
  }
 },
 "nbformat": 4,
 "nbformat_minor": 2
}
