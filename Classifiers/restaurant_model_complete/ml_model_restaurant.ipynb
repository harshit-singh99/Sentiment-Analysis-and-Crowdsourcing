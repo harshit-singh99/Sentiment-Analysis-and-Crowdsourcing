{
 "cells": [
  {
   "cell_type": "code",
   "execution_count": 1,
   "metadata": {},
   "outputs": [
    {
     "name": "stderr",
     "output_type": "stream",
     "text": [
      "/usr/lib/python3.6/importlib/_bootstrap.py:219: RuntimeWarning: numpy.dtype size changed, may indicate binary incompatibility. Expected 96, got 88\n",
      "  return f(*args, **kwds)\n",
      "/usr/lib/python3.6/importlib/_bootstrap.py:219: RuntimeWarning: numpy.dtype size changed, may indicate binary incompatibility. Expected 96, got 88\n",
      "  return f(*args, **kwds)\n"
     ]
    }
   ],
   "source": [
    "import pandas as pd \n",
    "from nltk.corpus import stopwords\n",
    "from sklearn import neural_network\n",
    "from sklearn import svm\n",
    "from sklearn.feature_extraction.text import CountVectorizer\n",
    "from sklearn.feature_extraction.text import TfidfTransformer\n",
    "from sklearn.model_selection import train_test_split\n",
    "from sklearn.metrics import classification_report,confusion_matrix\n",
    "from sklearn.metrics import accuracy_score\n",
    "from sklearn.svm import LinearSVC\n",
    "from sklearn.pipeline import Pipeline\n",
    "from sklearn import preprocessing\n",
    "from sklearn.decomposition import TruncatedSVD\n",
    "from sklearn.linear_model import SGDClassifier\n",
    "from sklearn.externals import joblib\n",
    "import pickle"
   ]
  },
  {
   "cell_type": "code",
   "execution_count": 2,
   "metadata": {},
   "outputs": [
    {
     "name": "stdout",
     "output_type": "stream",
     "text": [
      "<class 'pandas.core.frame.DataFrame'>\n",
      "Int64Index: 8539 entries, 0 to 8538\n",
      "Data columns (total 2 columns):\n",
      "polarity    8539 non-null object\n",
      "text        8539 non-null object\n",
      "dtypes: object(2)\n",
      "memory usage: 200.1+ KB\n"
     ]
    }
   ],
   "source": [
    "df = pd.read_csv('preprocessed_rest.csv')\n",
    "df  = df.dropna()\n",
    "df.info()"
   ]
  },
  {
   "cell_type": "code",
   "execution_count": 3,
   "metadata": {},
   "outputs": [
    {
     "data": {
      "text/plain": [
       "p    6863\n",
       "n    1676\n",
       "Name: polarity, dtype: int64"
      ]
     },
     "execution_count": 3,
     "metadata": {},
     "output_type": "execute_result"
    }
   ],
   "source": [
    "df['polarity'].value_counts()"
   ]
  },
  {
   "cell_type": "code",
   "execution_count": 4,
   "metadata": {},
   "outputs": [],
   "source": [
    "pipeline = Pipeline([\n",
    "        ('bow', CountVectorizer(ngram_range=(1,2))),  # strings to token integer counts\n",
    "        ('tfidf', TfidfTransformer()),  # integer counts to weighted TF-IDF scores\n",
    "        #('Normalize', preprocessing.Normalizer()),\n",
    "        #('reduce_dim',TruncatedSVD(n_components = 150)),\n",
    "        #('c',neural_network.MLPClassifier( hidden_layer_sizes=(100,100), alpha = 0.01,learning_rate_init=0.01, max_iter=50, )),\n",
    "        ('c',LinearSVC()),\n",
    "    ])"
   ]
  },
  {
   "cell_type": "code",
   "execution_count": 5,
   "metadata": {
    "scrolled": true
   },
   "outputs": [
    {
     "name": "stdout",
     "output_type": "stream",
     "text": [
      "[[ 349  217]\n",
      " [  35 2217]]\n",
      "             precision    recall  f1-score   support\n",
      "\n",
      "          n       0.91      0.62      0.73       566\n",
      "          p       0.91      0.98      0.95      2252\n",
      "\n",
      "avg / total       0.91      0.91      0.90      2818\n",
      "\n",
      " i , Accuracy :  0 0.9105748757984387\n",
      "[[ 354  212]\n",
      " [  42 2210]]\n",
      "             precision    recall  f1-score   support\n",
      "\n",
      "          n       0.89      0.63      0.74       566\n",
      "          p       0.91      0.98      0.95      2252\n",
      "\n",
      "avg / total       0.91      0.91      0.90      2818\n",
      "\n",
      " i , Accuracy :  5 0.9098651525904897\n",
      "[[ 367  199]\n",
      " [  41 2211]]\n",
      "             precision    recall  f1-score   support\n",
      "\n",
      "          n       0.90      0.65      0.75       566\n",
      "          p       0.92      0.98      0.95      2252\n",
      "\n",
      "avg / total       0.91      0.91      0.91      2818\n",
      "\n",
      " i , Accuracy :  10 0.914833215046132\n",
      "[[ 373  193]\n",
      " [  46 2206]]\n",
      "             precision    recall  f1-score   support\n",
      "\n",
      "          n       0.89      0.66      0.76       566\n",
      "          p       0.92      0.98      0.95      2252\n",
      "\n",
      "avg / total       0.91      0.92      0.91      2818\n",
      "\n",
      " i , Accuracy :  15 0.9151880766501065\n",
      "[[ 375  191]\n",
      " [  53 2199]]\n",
      "             precision    recall  f1-score   support\n",
      "\n",
      "          n       0.88      0.66      0.75       566\n",
      "          p       0.92      0.98      0.95      2252\n",
      "\n",
      "avg / total       0.91      0.91      0.91      2818\n",
      "\n",
      " i , Accuracy :  20 0.9134137686302342\n",
      "[[ 383  183]\n",
      " [  58 2194]]\n",
      "             precision    recall  f1-score   support\n",
      "\n",
      "          n       0.87      0.68      0.76       566\n",
      "          p       0.92      0.97      0.95      2252\n",
      "\n",
      "avg / total       0.91      0.91      0.91      2818\n",
      "\n",
      " i , Accuracy :  25 0.9144783534421576\n",
      "[[ 390  176]\n",
      " [  61 2191]]\n",
      "             precision    recall  f1-score   support\n",
      "\n",
      "          n       0.86      0.69      0.77       566\n",
      "          p       0.93      0.97      0.95      2252\n",
      "\n",
      "avg / total       0.91      0.92      0.91      2818\n",
      "\n",
      " i , Accuracy :  30 0.9158977998580553\n",
      "[[ 394  172]\n",
      " [  59 2193]]\n",
      "             precision    recall  f1-score   support\n",
      "\n",
      "          n       0.87      0.70      0.77       566\n",
      "          p       0.93      0.97      0.95      2252\n",
      "\n",
      "avg / total       0.92      0.92      0.91      2818\n",
      "\n",
      " i , Accuracy :  35 0.9180269694819021\n",
      "[[ 398  168]\n",
      " [  77 2175]]\n",
      "             precision    recall  f1-score   support\n",
      "\n",
      "          n       0.84      0.70      0.76       566\n",
      "          p       0.93      0.97      0.95      2252\n",
      "\n",
      "avg / total       0.91      0.91      0.91      2818\n",
      "\n",
      " i , Accuracy :  40 0.9130589070262598\n",
      "[[ 411  155]\n",
      " [  87 2165]]\n",
      "             precision    recall  f1-score   support\n",
      "\n",
      "          n       0.83      0.73      0.77       566\n",
      "          p       0.93      0.96      0.95      2252\n",
      "\n",
      "avg / total       0.91      0.91      0.91      2818\n",
      "\n",
      " i , Accuracy :  45 0.9141234918381831\n",
      "[[ 420  146]\n",
      " [  98 2154]]\n",
      "             precision    recall  f1-score   support\n",
      "\n",
      "          n       0.81      0.74      0.77       566\n",
      "          p       0.94      0.96      0.95      2252\n",
      "\n",
      "avg / total       0.91      0.91      0.91      2818\n",
      "\n",
      " i , Accuracy :  50 0.9134137686302342\n",
      "[[ 432  134]\n",
      " [ 112 2140]]\n",
      "             precision    recall  f1-score   support\n",
      "\n",
      "          n       0.79      0.76      0.78       566\n",
      "          p       0.94      0.95      0.95      2252\n",
      "\n",
      "avg / total       0.91      0.91      0.91      2818\n",
      "\n",
      " i , Accuracy :  55 0.9127040454222853\n",
      "[[ 455  111]\n",
      " [ 124 2128]]\n",
      "             precision    recall  f1-score   support\n",
      "\n",
      "          n       0.79      0.80      0.79       566\n",
      "          p       0.95      0.94      0.95      2252\n",
      "\n",
      "avg / total       0.92      0.92      0.92      2818\n",
      "\n",
      " i , Accuracy :  60 0.9166075230660042\n",
      "[[ 457  109]\n",
      " [ 154 2098]]\n",
      "             precision    recall  f1-score   support\n",
      "\n",
      "          n       0.75      0.81      0.78       566\n",
      "          p       0.95      0.93      0.94      2252\n",
      "\n",
      "avg / total       0.91      0.91      0.91      2818\n",
      "\n",
      " i , Accuracy :  65 0.9066713981547196\n",
      "[[ 476   90]\n",
      " [ 189 2063]]\n",
      "             precision    recall  f1-score   support\n",
      "\n",
      "          n       0.72      0.84      0.77       566\n",
      "          p       0.96      0.92      0.94      2252\n",
      "\n",
      "avg / total       0.91      0.90      0.90      2818\n",
      "\n",
      " i , Accuracy :  70 0.9009936124911284\n",
      "[[ 492   74]\n",
      " [ 265 1987]]\n",
      "             precision    recall  f1-score   support\n",
      "\n",
      "          n       0.65      0.87      0.74       566\n",
      "          p       0.96      0.88      0.92      2252\n",
      "\n",
      "avg / total       0.90      0.88      0.89      2818\n",
      "\n",
      " i , Accuracy :  75 0.8797019162526615\n",
      "[[ 508   58]\n",
      " [ 325 1927]]\n",
      "             precision    recall  f1-score   support\n",
      "\n",
      "          n       0.61      0.90      0.73       566\n",
      "          p       0.97      0.86      0.91      2252\n",
      "\n",
      "avg / total       0.90      0.86      0.87      2818\n",
      "\n",
      " i , Accuracy :  80 0.8640880056777857\n",
      "[[ 522   44]\n",
      " [ 498 1754]]\n",
      "             precision    recall  f1-score   support\n",
      "\n",
      "          n       0.51      0.92      0.66       566\n",
      "          p       0.98      0.78      0.87      2252\n",
      "\n",
      "avg / total       0.88      0.81      0.82      2818\n",
      "\n",
      " i , Accuracy :  85 0.8076650106458482\n",
      "[[ 550   16]\n",
      " [ 785 1467]]\n",
      "             precision    recall  f1-score   support\n",
      "\n",
      "          n       0.41      0.97      0.58       566\n",
      "          p       0.99      0.65      0.79      2252\n",
      "\n",
      "avg / total       0.87      0.72      0.74      2818\n",
      "\n",
      " i , Accuracy :  90 0.7157558552164656\n",
      "[[ 565    1]\n",
      " [1482  770]]\n",
      "             precision    recall  f1-score   support\n",
      "\n",
      "          n       0.28      1.00      0.43       566\n",
      "          p       1.00      0.34      0.51      2252\n",
      "\n",
      "avg / total       0.85      0.47      0.49      2818\n",
      "\n",
      " i , Accuracy :  95 0.4737402413058907\n"
     ]
    }
   ],
   "source": [
    "X_train, X_test, y_train, y_test = train_test_split(df['text'], df['polarity'], test_size=0.33, random_state=42)\n",
    "tdf = pd.DataFrame({'polarity': y_train, 'text': X_train })\n",
    "for i in range(0,100,5):\n",
    "    bdf = tdf.drop(tdf.query('polarity ==\"p\" ').sample(frac=i/100).index)\n",
    "    clf = pipeline.fit(bdf['text'],bdf['polarity'])\n",
    "    pred=pipeline.predict(X_test)\n",
    "    print(confusion_matrix(y_test,pred))\n",
    "    print(classification_report(y_test,pred))\n",
    "    print(\" i , Accuracy : \", i , accuracy_score(pred,y_test))"
   ]
  },
  {
   "cell_type": "code",
   "execution_count": 10,
   "metadata": {},
   "outputs": [
    {
     "name": "stdout",
     "output_type": "stream",
     "text": [
      "[[ 426  140]\n",
      " [ 104 2148]]\n",
      "             precision    recall  f1-score   support\n",
      "\n",
      "          n       0.80      0.75      0.78       566\n",
      "          p       0.94      0.95      0.95      2252\n",
      "\n",
      "avg / total       0.91      0.91      0.91      2818\n",
      "\n",
      "Accuracy :  0.9134137686302342\n"
     ]
    }
   ],
   "source": [
    "#best balanced result -> frac = .50\n",
    "bdf = tdf.drop(tdf.query('polarity ==\"p\" ').sample(frac = .50).index)\n",
    "clf = pipeline.fit(bdf['text'],bdf['polarity'])\n",
    "pred=pipeline.predict(X_test)\n",
    "print(confusion_matrix(y_test,pred))\n",
    "print(classification_report(y_test,pred))\n",
    "print(\"Accuracy : \", accuracy_score(pred,y_test))"
   ]
  },
  {
   "cell_type": "code",
   "execution_count": 11,
   "metadata": {},
   "outputs": [
    {
     "data": {
      "text/plain": [
       "['restaurant.joblib']"
      ]
     },
     "execution_count": 11,
     "metadata": {},
     "output_type": "execute_result"
    }
   ],
   "source": [
    "joblib.dump(clf, 'restaurant.joblib') "
   ]
  },
  {
   "cell_type": "code",
   "execution_count": 12,
   "metadata": {},
   "outputs": [],
   "source": [
    "filename = 'restaurant.pickle'\n",
    "pickle.dump(clf, open(filename, 'wb'))"
   ]
  },
  {
   "cell_type": "code",
   "execution_count": null,
   "metadata": {},
   "outputs": [],
   "source": []
  }
 ],
 "metadata": {
  "kernelspec": {
   "display_name": "Python 3",
   "language": "python",
   "name": "python3"
  },
  "language_info": {
   "codemirror_mode": {
    "name": "ipython",
    "version": 3
   },
   "file_extension": ".py",
   "mimetype": "text/x-python",
   "name": "python",
   "nbconvert_exporter": "python",
   "pygments_lexer": "ipython3",
   "version": "3.6.5"
  }
 },
 "nbformat": 4,
 "nbformat_minor": 2
}
